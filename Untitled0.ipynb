{
 "metadata": {
  "name": "",
  "signature": "sha256:a0882c8f0267ba09815a4935e124a18ce27d5c5ed85c31d00ca66ce5ad04caa5"
 },
 "nbformat": 3,
 "nbformat_minor": 0,
 "worksheets": []
}