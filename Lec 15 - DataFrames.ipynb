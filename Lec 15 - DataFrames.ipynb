{
 "metadata": {
  "name": "",
  "signature": "sha256:68dfd243b610c5ac436d9529cea66df39c789e60a941abaed2afc8f9ce8803e9"
 },
 "nbformat": 3,
 "nbformat_minor": 0,
 "worksheets": [
  {
   "cells": [
    {
     "cell_type": "code",
     "collapsed": false,
     "input": [
      "import numpy as np\n",
      "\n",
      "from pandas import Series, DataFrame\n",
      "import pandas as pd\n"
     ],
     "language": "python",
     "metadata": {},
     "outputs": [],
     "prompt_number": 1
    },
    {
     "cell_type": "code",
     "collapsed": false,
     "input": [
      "#Now we'll learn DataFrames\n",
      "\n",
      "#Let's get some data to play with. How about the NFL?\n",
      "import webbrowser\n",
      "website = 'http://en.wikipedia.org/wiki/NFL_win-loss_records'\n",
      "webbrowser.open(website)"
     ],
     "language": "python",
     "metadata": {},
     "outputs": [
      {
       "metadata": {},
       "output_type": "pyout",
       "prompt_number": 14,
       "text": [
        "True"
       ]
      }
     ],
     "prompt_number": 14
    },
    {
     "cell_type": "code",
     "collapsed": false,
     "input": [
      "#Copy and read to get data\n",
      "nfl_frame = pd.read_clipboard()"
     ],
     "language": "python",
     "metadata": {},
     "outputs": [],
     "prompt_number": 15
    },
    {
     "cell_type": "code",
     "collapsed": false,
     "input": [
      "#Show\n",
      "nfl_frame"
     ],
     "language": "python",
     "metadata": {},
     "outputs": [
      {
       "html": [
        "<div style=\"max-height:1000px;max-width:1500px;overflow:auto;\">\n",
        "<table border=\"1\" class=\"dataframe\">\n",
        "  <thead>\n",
        "    <tr style=\"text-align: right;\">\n",
        "      <th></th>\n",
        "      <th>Rank</th>\n",
        "      <th>Team</th>\n",
        "      <th>Won</th>\n",
        "      <th>Lost</th>\n",
        "      <th>Tied*</th>\n",
        "      <th>Pct.</th>\n",
        "      <th>First Season</th>\n",
        "      <th>Total Games</th>\n",
        "      <th>Conference</th>\n",
        "    </tr>\n",
        "  </thead>\n",
        "  <tbody>\n",
        "    <tr>\n",
        "      <th>0</th>\n",
        "      <td> 1</td>\n",
        "      <td>      Dallas Cowboys</td>\n",
        "      <td> 510</td>\n",
        "      <td> 378</td>\n",
        "      <td>  6</td>\n",
        "      <td> 0.574</td>\n",
        "      <td> 1960</td>\n",
        "      <td>  894</td>\n",
        "      <td>  NFC East</td>\n",
        "    </tr>\n",
        "    <tr>\n",
        "      <th>1</th>\n",
        "      <td> 2</td>\n",
        "      <td>       Chicago Bears</td>\n",
        "      <td> 752</td>\n",
        "      <td> 563</td>\n",
        "      <td> 42</td>\n",
        "      <td> 0.570</td>\n",
        "      <td> 1920</td>\n",
        "      <td> 1357</td>\n",
        "      <td> NFC North</td>\n",
        "    </tr>\n",
        "    <tr>\n",
        "      <th>2</th>\n",
        "      <td> 3</td>\n",
        "      <td>   Green Bay Packers</td>\n",
        "      <td> 741</td>\n",
        "      <td> 561</td>\n",
        "      <td> 37</td>\n",
        "      <td> 0.567</td>\n",
        "      <td> 1921</td>\n",
        "      <td> 1339</td>\n",
        "      <td> NFC North</td>\n",
        "    </tr>\n",
        "    <tr>\n",
        "      <th>3</th>\n",
        "      <td> 4</td>\n",
        "      <td>      Miami Dolphins</td>\n",
        "      <td> 443</td>\n",
        "      <td> 345</td>\n",
        "      <td>  4</td>\n",
        "      <td> 0.562</td>\n",
        "      <td> 1966</td>\n",
        "      <td>  792</td>\n",
        "      <td>  AFC East</td>\n",
        "    </tr>\n",
        "    <tr>\n",
        "      <th>4</th>\n",
        "      <td> 5</td>\n",
        "      <td>    Baltimore Ravens</td>\n",
        "      <td> 182</td>\n",
        "      <td> 143</td>\n",
        "      <td>  1</td>\n",
        "      <td> 0.560</td>\n",
        "      <td> 1996</td>\n",
        "      <td>  326</td>\n",
        "      <td> AFC North</td>\n",
        "    </tr>\n",
        "    <tr>\n",
        "      <th>5</th>\n",
        "      <td> 6</td>\n",
        "      <td> San Francisco 49ers</td>\n",
        "      <td> 545</td>\n",
        "      <td> 444</td>\n",
        "      <td> 14</td>\n",
        "      <td> 0.550</td>\n",
        "      <td> 1950</td>\n",
        "      <td> 1003</td>\n",
        "      <td>  NFC West</td>\n",
        "    </tr>\n",
        "  </tbody>\n",
        "</table>\n",
        "</div>"
       ],
       "metadata": {},
       "output_type": "pyout",
       "prompt_number": 16,
       "text": [
        "   Rank                 Team  Won  Lost  Tied*   Pct.  First Season  \\\n",
        "0     1       Dallas Cowboys  510   378      6  0.574          1960   \n",
        "1     2        Chicago Bears  752   563     42  0.570          1920   \n",
        "2     3    Green Bay Packers  741   561     37  0.567          1921   \n",
        "3     4       Miami Dolphins  443   345      4  0.562          1966   \n",
        "4     5     Baltimore Ravens  182   143      1  0.560          1996   \n",
        "5     6  San Francisco 49ers  545   444     14  0.550          1950   \n",
        "\n",
        "   Total Games Conference  \n",
        "0          894   NFC East  \n",
        "1         1357  NFC North  \n",
        "2         1339  NFC North  \n",
        "3          792   AFC East  \n",
        "4          326  AFC North  \n",
        "5         1003   NFC West  "
       ]
      }
     ],
     "prompt_number": 16
    },
    {
     "cell_type": "code",
     "collapsed": false,
     "input": [
      "#Lets see some specific data columns\n",
      "DataFrame(nfl_frame,columns=['Team','First Season','Total Games'])"
     ],
     "language": "python",
     "metadata": {},
     "outputs": [
      {
       "html": [
        "<div style=\"max-height:1000px;max-width:1500px;overflow:auto;\">\n",
        "<table border=\"1\" class=\"dataframe\">\n",
        "  <thead>\n",
        "    <tr style=\"text-align: right;\">\n",
        "      <th></th>\n",
        "      <th>Team</th>\n",
        "      <th>First Season</th>\n",
        "      <th>Total Games</th>\n",
        "    </tr>\n",
        "  </thead>\n",
        "  <tbody>\n",
        "    <tr>\n",
        "      <th>0</th>\n",
        "      <td>      Dallas Cowboys</td>\n",
        "      <td> 1960</td>\n",
        "      <td>  894</td>\n",
        "    </tr>\n",
        "    <tr>\n",
        "      <th>1</th>\n",
        "      <td>       Chicago Bears</td>\n",
        "      <td> 1920</td>\n",
        "      <td> 1357</td>\n",
        "    </tr>\n",
        "    <tr>\n",
        "      <th>2</th>\n",
        "      <td>   Green Bay Packers</td>\n",
        "      <td> 1921</td>\n",
        "      <td> 1339</td>\n",
        "    </tr>\n",
        "    <tr>\n",
        "      <th>3</th>\n",
        "      <td>      Miami Dolphins</td>\n",
        "      <td> 1966</td>\n",
        "      <td>  792</td>\n",
        "    </tr>\n",
        "    <tr>\n",
        "      <th>4</th>\n",
        "      <td>    Baltimore Ravens</td>\n",
        "      <td> 1996</td>\n",
        "      <td>  326</td>\n",
        "    </tr>\n",
        "    <tr>\n",
        "      <th>5</th>\n",
        "      <td> San Francisco 49ers</td>\n",
        "      <td> 1950</td>\n",
        "      <td> 1003</td>\n",
        "    </tr>\n",
        "  </tbody>\n",
        "</table>\n",
        "</div>"
       ],
       "metadata": {},
       "output_type": "pyout",
       "prompt_number": 22,
       "text": [
        "                  Team  First Season  Total Games\n",
        "0       Dallas Cowboys          1960          894\n",
        "1        Chicago Bears          1920         1357\n",
        "2    Green Bay Packers          1921         1339\n",
        "3       Miami Dolphins          1966          792\n",
        "4     Baltimore Ravens          1996          326\n",
        "5  San Francisco 49ers          1950         1003"
       ]
      }
     ],
     "prompt_number": 22
    },
    {
     "cell_type": "code",
     "collapsed": false,
     "input": [
      "#What happens if we ask for a column that doesn't exist?\n",
      "DataFrame(nfl_frame,columns=['Team','First Season','Total Games','Stadium'])"
     ],
     "language": "python",
     "metadata": {},
     "outputs": [
      {
       "html": [
        "<div style=\"max-height:1000px;max-width:1500px;overflow:auto;\">\n",
        "<table border=\"1\" class=\"dataframe\">\n",
        "  <thead>\n",
        "    <tr style=\"text-align: right;\">\n",
        "      <th></th>\n",
        "      <th>Team</th>\n",
        "      <th>First Season</th>\n",
        "      <th>Total Games</th>\n",
        "      <th>Stadium</th>\n",
        "    </tr>\n",
        "  </thead>\n",
        "  <tbody>\n",
        "    <tr>\n",
        "      <th>0</th>\n",
        "      <td>      Dallas Cowboys</td>\n",
        "      <td> 1960</td>\n",
        "      <td>  894</td>\n",
        "      <td>NaN</td>\n",
        "    </tr>\n",
        "    <tr>\n",
        "      <th>1</th>\n",
        "      <td>       Chicago Bears</td>\n",
        "      <td> 1920</td>\n",
        "      <td> 1357</td>\n",
        "      <td>NaN</td>\n",
        "    </tr>\n",
        "    <tr>\n",
        "      <th>2</th>\n",
        "      <td>   Green Bay Packers</td>\n",
        "      <td> 1921</td>\n",
        "      <td> 1339</td>\n",
        "      <td>NaN</td>\n",
        "    </tr>\n",
        "    <tr>\n",
        "      <th>3</th>\n",
        "      <td>      Miami Dolphins</td>\n",
        "      <td> 1966</td>\n",
        "      <td>  792</td>\n",
        "      <td>NaN</td>\n",
        "    </tr>\n",
        "    <tr>\n",
        "      <th>4</th>\n",
        "      <td>    Baltimore Ravens</td>\n",
        "      <td> 1996</td>\n",
        "      <td>  326</td>\n",
        "      <td>NaN</td>\n",
        "    </tr>\n",
        "    <tr>\n",
        "      <th>5</th>\n",
        "      <td> San Francisco 49ers</td>\n",
        "      <td> 1950</td>\n",
        "      <td> 1003</td>\n",
        "      <td>NaN</td>\n",
        "    </tr>\n",
        "  </tbody>\n",
        "</table>\n",
        "</div>"
       ],
       "metadata": {},
       "output_type": "pyout",
       "prompt_number": 23,
       "text": [
        "                  Team  First Season  Total Games  Stadium\n",
        "0       Dallas Cowboys          1960          894      NaN\n",
        "1        Chicago Bears          1920         1357      NaN\n",
        "2    Green Bay Packers          1921         1339      NaN\n",
        "3       Miami Dolphins          1966          792      NaN\n",
        "4     Baltimore Ravens          1996          326      NaN\n",
        "5  San Francisco 49ers          1950         1003      NaN"
       ]
      }
     ],
     "prompt_number": 23
    },
    {
     "cell_type": "code",
     "collapsed": false,
     "input": [
      "#We can retrieve individual columns\n",
      "nfl_frame.Team"
     ],
     "language": "python",
     "metadata": {},
     "outputs": [
      {
       "metadata": {},
       "output_type": "pyout",
       "prompt_number": 24,
       "text": [
        "0         Dallas Cowboys\n",
        "1          Chicago Bears\n",
        "2      Green Bay Packers\n",
        "3         Miami Dolphins\n",
        "4       Baltimore Ravens\n",
        "5    San Francisco 49ers\n",
        "Name: Team, dtype: object"
       ]
      }
     ],
     "prompt_number": 24
    },
    {
     "cell_type": "code",
     "collapsed": false,
     "input": [
      "#We can retrieve rows through indexing\n",
      "nfl_frame.ix[3]"
     ],
     "language": "python",
     "metadata": {},
     "outputs": [
      {
       "metadata": {},
       "output_type": "pyout",
       "prompt_number": 25,
       "text": [
        "Rank                         4\n",
        "Team            Miami Dolphins\n",
        "Won                        443\n",
        "Lost                       345\n",
        "Tied*                        4\n",
        "Pct.                     0.562\n",
        "First Season              1966\n",
        "Total Games                792\n",
        "Conference            AFC East\n",
        "Name: 3, dtype: object"
       ]
      }
     ],
     "prompt_number": 25
    },
    {
     "cell_type": "code",
     "collapsed": false,
     "input": [
      "#We can also assign value sto entire columns\n",
      "nfl_frame['Stadium']=\"Levi's Stadium\" #Careful with the ' here"
     ],
     "language": "python",
     "metadata": {},
     "outputs": [],
     "prompt_number": 26
    },
    {
     "cell_type": "code",
     "collapsed": false,
     "input": [
      "nfl_frame"
     ],
     "language": "python",
     "metadata": {},
     "outputs": [
      {
       "html": [
        "<div style=\"max-height:1000px;max-width:1500px;overflow:auto;\">\n",
        "<table border=\"1\" class=\"dataframe\">\n",
        "  <thead>\n",
        "    <tr style=\"text-align: right;\">\n",
        "      <th></th>\n",
        "      <th>Rank</th>\n",
        "      <th>Team</th>\n",
        "      <th>Won</th>\n",
        "      <th>Lost</th>\n",
        "      <th>Tied*</th>\n",
        "      <th>Pct.</th>\n",
        "      <th>First Season</th>\n",
        "      <th>Total Games</th>\n",
        "      <th>Conference</th>\n",
        "      <th>Stadium</th>\n",
        "    </tr>\n",
        "  </thead>\n",
        "  <tbody>\n",
        "    <tr>\n",
        "      <th>0</th>\n",
        "      <td> 1</td>\n",
        "      <td>      Dallas Cowboys</td>\n",
        "      <td> 510</td>\n",
        "      <td> 378</td>\n",
        "      <td>  6</td>\n",
        "      <td> 0.574</td>\n",
        "      <td> 1960</td>\n",
        "      <td>  894</td>\n",
        "      <td>  NFC East</td>\n",
        "      <td> Levi's Stadium</td>\n",
        "    </tr>\n",
        "    <tr>\n",
        "      <th>1</th>\n",
        "      <td> 2</td>\n",
        "      <td>       Chicago Bears</td>\n",
        "      <td> 752</td>\n",
        "      <td> 563</td>\n",
        "      <td> 42</td>\n",
        "      <td> 0.570</td>\n",
        "      <td> 1920</td>\n",
        "      <td> 1357</td>\n",
        "      <td> NFC North</td>\n",
        "      <td> Levi's Stadium</td>\n",
        "    </tr>\n",
        "    <tr>\n",
        "      <th>2</th>\n",
        "      <td> 3</td>\n",
        "      <td>   Green Bay Packers</td>\n",
        "      <td> 741</td>\n",
        "      <td> 561</td>\n",
        "      <td> 37</td>\n",
        "      <td> 0.567</td>\n",
        "      <td> 1921</td>\n",
        "      <td> 1339</td>\n",
        "      <td> NFC North</td>\n",
        "      <td> Levi's Stadium</td>\n",
        "    </tr>\n",
        "    <tr>\n",
        "      <th>3</th>\n",
        "      <td> 4</td>\n",
        "      <td>      Miami Dolphins</td>\n",
        "      <td> 443</td>\n",
        "      <td> 345</td>\n",
        "      <td>  4</td>\n",
        "      <td> 0.562</td>\n",
        "      <td> 1966</td>\n",
        "      <td>  792</td>\n",
        "      <td>  AFC East</td>\n",
        "      <td> Levi's Stadium</td>\n",
        "    </tr>\n",
        "    <tr>\n",
        "      <th>4</th>\n",
        "      <td> 5</td>\n",
        "      <td>    Baltimore Ravens</td>\n",
        "      <td> 182</td>\n",
        "      <td> 143</td>\n",
        "      <td>  1</td>\n",
        "      <td> 0.560</td>\n",
        "      <td> 1996</td>\n",
        "      <td>  326</td>\n",
        "      <td> AFC North</td>\n",
        "      <td> Levi's Stadium</td>\n",
        "    </tr>\n",
        "    <tr>\n",
        "      <th>5</th>\n",
        "      <td> 6</td>\n",
        "      <td> San Francisco 49ers</td>\n",
        "      <td> 545</td>\n",
        "      <td> 444</td>\n",
        "      <td> 14</td>\n",
        "      <td> 0.550</td>\n",
        "      <td> 1950</td>\n",
        "      <td> 1003</td>\n",
        "      <td>  NFC West</td>\n",
        "      <td> Levi's Stadium</td>\n",
        "    </tr>\n",
        "  </tbody>\n",
        "</table>\n",
        "</div>"
       ],
       "metadata": {},
       "output_type": "pyout",
       "prompt_number": 28,
       "text": [
        "   Rank                 Team  Won  Lost  Tied*   Pct.  First Season  \\\n",
        "0     1       Dallas Cowboys  510   378      6  0.574          1960   \n",
        "1     2        Chicago Bears  752   563     42  0.570          1920   \n",
        "2     3    Green Bay Packers  741   561     37  0.567          1921   \n",
        "3     4       Miami Dolphins  443   345      4  0.562          1966   \n",
        "4     5     Baltimore Ravens  182   143      1  0.560          1996   \n",
        "5     6  San Francisco 49ers  545   444     14  0.550          1950   \n",
        "\n",
        "   Total Games Conference         Stadium  \n",
        "0          894   NFC East  Levi's Stadium  \n",
        "1         1357  NFC North  Levi's Stadium  \n",
        "2         1339  NFC North  Levi's Stadium  \n",
        "3          792   AFC East  Levi's Stadium  \n",
        "4          326  AFC North  Levi's Stadium  \n",
        "5         1003   NFC West  Levi's Stadium  "
       ]
      }
     ],
     "prompt_number": 28
    },
    {
     "cell_type": "code",
     "collapsed": false,
     "input": [
      "#Putting numbers for stadiums\n",
      "nfl_frame[\"Stadium\"] = np.arange(6)\n",
      "\n",
      "#Show\n",
      "nfl_frame"
     ],
     "language": "python",
     "metadata": {},
     "outputs": [
      {
       "html": [
        "<div style=\"max-height:1000px;max-width:1500px;overflow:auto;\">\n",
        "<table border=\"1\" class=\"dataframe\">\n",
        "  <thead>\n",
        "    <tr style=\"text-align: right;\">\n",
        "      <th></th>\n",
        "      <th>Rank</th>\n",
        "      <th>Team</th>\n",
        "      <th>Won</th>\n",
        "      <th>Lost</th>\n",
        "      <th>Tied*</th>\n",
        "      <th>Pct.</th>\n",
        "      <th>First Season</th>\n",
        "      <th>Total Games</th>\n",
        "      <th>Conference</th>\n",
        "      <th>Stadium</th>\n",
        "    </tr>\n",
        "  </thead>\n",
        "  <tbody>\n",
        "    <tr>\n",
        "      <th>0</th>\n",
        "      <td> 1</td>\n",
        "      <td>      Dallas Cowboys</td>\n",
        "      <td> 510</td>\n",
        "      <td> 378</td>\n",
        "      <td>  6</td>\n",
        "      <td> 0.574</td>\n",
        "      <td> 1960</td>\n",
        "      <td>  894</td>\n",
        "      <td>  NFC East</td>\n",
        "      <td> 0</td>\n",
        "    </tr>\n",
        "    <tr>\n",
        "      <th>1</th>\n",
        "      <td> 2</td>\n",
        "      <td>       Chicago Bears</td>\n",
        "      <td> 752</td>\n",
        "      <td> 563</td>\n",
        "      <td> 42</td>\n",
        "      <td> 0.570</td>\n",
        "      <td> 1920</td>\n",
        "      <td> 1357</td>\n",
        "      <td> NFC North</td>\n",
        "      <td> 1</td>\n",
        "    </tr>\n",
        "    <tr>\n",
        "      <th>2</th>\n",
        "      <td> 3</td>\n",
        "      <td>   Green Bay Packers</td>\n",
        "      <td> 741</td>\n",
        "      <td> 561</td>\n",
        "      <td> 37</td>\n",
        "      <td> 0.567</td>\n",
        "      <td> 1921</td>\n",
        "      <td> 1339</td>\n",
        "      <td> NFC North</td>\n",
        "      <td> 2</td>\n",
        "    </tr>\n",
        "    <tr>\n",
        "      <th>3</th>\n",
        "      <td> 4</td>\n",
        "      <td>      Miami Dolphins</td>\n",
        "      <td> 443</td>\n",
        "      <td> 345</td>\n",
        "      <td>  4</td>\n",
        "      <td> 0.562</td>\n",
        "      <td> 1966</td>\n",
        "      <td>  792</td>\n",
        "      <td>  AFC East</td>\n",
        "      <td> 3</td>\n",
        "    </tr>\n",
        "    <tr>\n",
        "      <th>4</th>\n",
        "      <td> 5</td>\n",
        "      <td>    Baltimore Ravens</td>\n",
        "      <td> 182</td>\n",
        "      <td> 143</td>\n",
        "      <td>  1</td>\n",
        "      <td> 0.560</td>\n",
        "      <td> 1996</td>\n",
        "      <td>  326</td>\n",
        "      <td> AFC North</td>\n",
        "      <td> 4</td>\n",
        "    </tr>\n",
        "    <tr>\n",
        "      <th>5</th>\n",
        "      <td> 6</td>\n",
        "      <td> San Francisco 49ers</td>\n",
        "      <td> 545</td>\n",
        "      <td> 444</td>\n",
        "      <td> 14</td>\n",
        "      <td> 0.550</td>\n",
        "      <td> 1950</td>\n",
        "      <td> 1003</td>\n",
        "      <td>  NFC West</td>\n",
        "      <td> 5</td>\n",
        "    </tr>\n",
        "  </tbody>\n",
        "</table>\n",
        "</div>"
       ],
       "metadata": {},
       "output_type": "pyout",
       "prompt_number": 30,
       "text": [
        "   Rank                 Team  Won  Lost  Tied*   Pct.  First Season  \\\n",
        "0     1       Dallas Cowboys  510   378      6  0.574          1960   \n",
        "1     2        Chicago Bears  752   563     42  0.570          1920   \n",
        "2     3    Green Bay Packers  741   561     37  0.567          1921   \n",
        "3     4       Miami Dolphins  443   345      4  0.562          1966   \n",
        "4     5     Baltimore Ravens  182   143      1  0.560          1996   \n",
        "5     6  San Francisco 49ers  545   444     14  0.550          1950   \n",
        "\n",
        "   Total Games Conference  Stadium  \n",
        "0          894   NFC East        0  \n",
        "1         1357  NFC North        1  \n",
        "2         1339  NFC North        2  \n",
        "3          792   AFC East        3  \n",
        "4          326  AFC North        4  \n",
        "5         1003   NFC West        5  "
       ]
      }
     ],
     "prompt_number": 30
    },
    {
     "cell_type": "code",
     "collapsed": false,
     "input": [
      "#Adding a Series to a DataFrame\n",
      "stadiums = Series([\"Levi's Stadium\",\"AT&T Stadium\"],index=[5,0])"
     ],
     "language": "python",
     "metadata": {},
     "outputs": [],
     "prompt_number": 35
    },
    {
     "cell_type": "code",
     "collapsed": false,
     "input": [
      "#Now input into the nfl DataFrame\n",
      "nfl_frame['Stadium']=stadiums\n",
      "\n",
      "#Show\n",
      "nfl_frame"
     ],
     "language": "python",
     "metadata": {},
     "outputs": [
      {
       "html": [
        "<div style=\"max-height:1000px;max-width:1500px;overflow:auto;\">\n",
        "<table border=\"1\" class=\"dataframe\">\n",
        "  <thead>\n",
        "    <tr style=\"text-align: right;\">\n",
        "      <th></th>\n",
        "      <th>Rank</th>\n",
        "      <th>Team</th>\n",
        "      <th>Won</th>\n",
        "      <th>Lost</th>\n",
        "      <th>Tied*</th>\n",
        "      <th>Pct.</th>\n",
        "      <th>First Season</th>\n",
        "      <th>Total Games</th>\n",
        "      <th>Conference</th>\n",
        "      <th>Stadium</th>\n",
        "    </tr>\n",
        "  </thead>\n",
        "  <tbody>\n",
        "    <tr>\n",
        "      <th>0</th>\n",
        "      <td> 1</td>\n",
        "      <td>      Dallas Cowboys</td>\n",
        "      <td> 510</td>\n",
        "      <td> 378</td>\n",
        "      <td>  6</td>\n",
        "      <td> 0.574</td>\n",
        "      <td> 1960</td>\n",
        "      <td>  894</td>\n",
        "      <td>  NFC East</td>\n",
        "      <td>   AT&amp;T Stadium</td>\n",
        "    </tr>\n",
        "    <tr>\n",
        "      <th>1</th>\n",
        "      <td> 2</td>\n",
        "      <td>       Chicago Bears</td>\n",
        "      <td> 752</td>\n",
        "      <td> 563</td>\n",
        "      <td> 42</td>\n",
        "      <td> 0.570</td>\n",
        "      <td> 1920</td>\n",
        "      <td> 1357</td>\n",
        "      <td> NFC North</td>\n",
        "      <td>            NaN</td>\n",
        "    </tr>\n",
        "    <tr>\n",
        "      <th>2</th>\n",
        "      <td> 3</td>\n",
        "      <td>   Green Bay Packers</td>\n",
        "      <td> 741</td>\n",
        "      <td> 561</td>\n",
        "      <td> 37</td>\n",
        "      <td> 0.567</td>\n",
        "      <td> 1921</td>\n",
        "      <td> 1339</td>\n",
        "      <td> NFC North</td>\n",
        "      <td>            NaN</td>\n",
        "    </tr>\n",
        "    <tr>\n",
        "      <th>3</th>\n",
        "      <td> 4</td>\n",
        "      <td>      Miami Dolphins</td>\n",
        "      <td> 443</td>\n",
        "      <td> 345</td>\n",
        "      <td>  4</td>\n",
        "      <td> 0.562</td>\n",
        "      <td> 1966</td>\n",
        "      <td>  792</td>\n",
        "      <td>  AFC East</td>\n",
        "      <td>            NaN</td>\n",
        "    </tr>\n",
        "    <tr>\n",
        "      <th>4</th>\n",
        "      <td> 5</td>\n",
        "      <td>    Baltimore Ravens</td>\n",
        "      <td> 182</td>\n",
        "      <td> 143</td>\n",
        "      <td>  1</td>\n",
        "      <td> 0.560</td>\n",
        "      <td> 1996</td>\n",
        "      <td>  326</td>\n",
        "      <td> AFC North</td>\n",
        "      <td>            NaN</td>\n",
        "    </tr>\n",
        "    <tr>\n",
        "      <th>5</th>\n",
        "      <td> 6</td>\n",
        "      <td> San Francisco 49ers</td>\n",
        "      <td> 545</td>\n",
        "      <td> 444</td>\n",
        "      <td> 14</td>\n",
        "      <td> 0.550</td>\n",
        "      <td> 1950</td>\n",
        "      <td> 1003</td>\n",
        "      <td>  NFC West</td>\n",
        "      <td> Levi's Stadium</td>\n",
        "    </tr>\n",
        "  </tbody>\n",
        "</table>\n",
        "</div>"
       ],
       "metadata": {},
       "output_type": "pyout",
       "prompt_number": 36,
       "text": [
        "   Rank                 Team  Won  Lost  Tied*   Pct.  First Season  \\\n",
        "0     1       Dallas Cowboys  510   378      6  0.574          1960   \n",
        "1     2        Chicago Bears  752   563     42  0.570          1920   \n",
        "2     3    Green Bay Packers  741   561     37  0.567          1921   \n",
        "3     4       Miami Dolphins  443   345      4  0.562          1966   \n",
        "4     5     Baltimore Ravens  182   143      1  0.560          1996   \n",
        "5     6  San Francisco 49ers  545   444     14  0.550          1950   \n",
        "\n",
        "   Total Games Conference         Stadium  \n",
        "0          894   NFC East    AT&T Stadium  \n",
        "1         1357  NFC North             NaN  \n",
        "2         1339  NFC North             NaN  \n",
        "3          792   AFC East             NaN  \n",
        "4          326  AFC North             NaN  \n",
        "5         1003   NFC West  Levi's Stadium  "
       ]
      }
     ],
     "prompt_number": 36
    },
    {
     "cell_type": "code",
     "collapsed": false,
     "input": [
      "#We can also delete columns\n",
      "del nfl_frame['Stadium']\n",
      "\n",
      "nfl_frame"
     ],
     "language": "python",
     "metadata": {},
     "outputs": [
      {
       "html": [
        "<div style=\"max-height:1000px;max-width:1500px;overflow:auto;\">\n",
        "<table border=\"1\" class=\"dataframe\">\n",
        "  <thead>\n",
        "    <tr style=\"text-align: right;\">\n",
        "      <th></th>\n",
        "      <th>Rank</th>\n",
        "      <th>Team</th>\n",
        "      <th>Won</th>\n",
        "      <th>Lost</th>\n",
        "      <th>Tied*</th>\n",
        "      <th>Pct.</th>\n",
        "      <th>First Season</th>\n",
        "      <th>Total Games</th>\n",
        "      <th>Conference</th>\n",
        "    </tr>\n",
        "  </thead>\n",
        "  <tbody>\n",
        "    <tr>\n",
        "      <th>0</th>\n",
        "      <td> 1</td>\n",
        "      <td>      Dallas Cowboys</td>\n",
        "      <td> 510</td>\n",
        "      <td> 378</td>\n",
        "      <td>  6</td>\n",
        "      <td> 0.574</td>\n",
        "      <td> 1960</td>\n",
        "      <td>  894</td>\n",
        "      <td>  NFC East</td>\n",
        "    </tr>\n",
        "    <tr>\n",
        "      <th>1</th>\n",
        "      <td> 2</td>\n",
        "      <td>       Chicago Bears</td>\n",
        "      <td> 752</td>\n",
        "      <td> 563</td>\n",
        "      <td> 42</td>\n",
        "      <td> 0.570</td>\n",
        "      <td> 1920</td>\n",
        "      <td> 1357</td>\n",
        "      <td> NFC North</td>\n",
        "    </tr>\n",
        "    <tr>\n",
        "      <th>2</th>\n",
        "      <td> 3</td>\n",
        "      <td>   Green Bay Packers</td>\n",
        "      <td> 741</td>\n",
        "      <td> 561</td>\n",
        "      <td> 37</td>\n",
        "      <td> 0.567</td>\n",
        "      <td> 1921</td>\n",
        "      <td> 1339</td>\n",
        "      <td> NFC North</td>\n",
        "    </tr>\n",
        "    <tr>\n",
        "      <th>3</th>\n",
        "      <td> 4</td>\n",
        "      <td>      Miami Dolphins</td>\n",
        "      <td> 443</td>\n",
        "      <td> 345</td>\n",
        "      <td>  4</td>\n",
        "      <td> 0.562</td>\n",
        "      <td> 1966</td>\n",
        "      <td>  792</td>\n",
        "      <td>  AFC East</td>\n",
        "    </tr>\n",
        "    <tr>\n",
        "      <th>4</th>\n",
        "      <td> 5</td>\n",
        "      <td>    Baltimore Ravens</td>\n",
        "      <td> 182</td>\n",
        "      <td> 143</td>\n",
        "      <td>  1</td>\n",
        "      <td> 0.560</td>\n",
        "      <td> 1996</td>\n",
        "      <td>  326</td>\n",
        "      <td> AFC North</td>\n",
        "    </tr>\n",
        "    <tr>\n",
        "      <th>5</th>\n",
        "      <td> 6</td>\n",
        "      <td> San Francisco 49ers</td>\n",
        "      <td> 545</td>\n",
        "      <td> 444</td>\n",
        "      <td> 14</td>\n",
        "      <td> 0.550</td>\n",
        "      <td> 1950</td>\n",
        "      <td> 1003</td>\n",
        "      <td>  NFC West</td>\n",
        "    </tr>\n",
        "  </tbody>\n",
        "</table>\n",
        "</div>"
       ],
       "metadata": {},
       "output_type": "pyout",
       "prompt_number": 37,
       "text": [
        "   Rank                 Team  Won  Lost  Tied*   Pct.  First Season  \\\n",
        "0     1       Dallas Cowboys  510   378      6  0.574          1960   \n",
        "1     2        Chicago Bears  752   563     42  0.570          1920   \n",
        "2     3    Green Bay Packers  741   561     37  0.567          1921   \n",
        "3     4       Miami Dolphins  443   345      4  0.562          1966   \n",
        "4     5     Baltimore Ravens  182   143      1  0.560          1996   \n",
        "5     6  San Francisco 49ers  545   444     14  0.550          1950   \n",
        "\n",
        "   Total Games Conference  \n",
        "0          894   NFC East  \n",
        "1         1357  NFC North  \n",
        "2         1339  NFC North  \n",
        "3          792   AFC East  \n",
        "4          326  AFC North  \n",
        "5         1003   NFC West  "
       ]
      }
     ],
     "prompt_number": 37
    },
    {
     "cell_type": "code",
     "collapsed": false,
     "input": [
      "#DataFrames can be constructed many ways. Another way is from a dictionary of equal length lists\n",
      "data = {'City':['SF','LA','NYC'],\n",
      "        'Population':[837000,3880000,8400000]}\n",
      "\n",
      "city_frame = DataFrame(data)\n",
      "\n",
      "#Show\n",
      "city_frame"
     ],
     "language": "python",
     "metadata": {},
     "outputs": [
      {
       "html": [
        "<div style=\"max-height:1000px;max-width:1500px;overflow:auto;\">\n",
        "<table border=\"1\" class=\"dataframe\">\n",
        "  <thead>\n",
        "    <tr style=\"text-align: right;\">\n",
        "      <th></th>\n",
        "      <th>City</th>\n",
        "      <th>Population</th>\n",
        "    </tr>\n",
        "  </thead>\n",
        "  <tbody>\n",
        "    <tr>\n",
        "      <th>0</th>\n",
        "      <td>  SF</td>\n",
        "      <td>  837000</td>\n",
        "    </tr>\n",
        "    <tr>\n",
        "      <th>1</th>\n",
        "      <td>  LA</td>\n",
        "      <td> 3880000</td>\n",
        "    </tr>\n",
        "    <tr>\n",
        "      <th>2</th>\n",
        "      <td> NYC</td>\n",
        "      <td> 8400000</td>\n",
        "    </tr>\n",
        "  </tbody>\n",
        "</table>\n",
        "</div>"
       ],
       "metadata": {},
       "output_type": "pyout",
       "prompt_number": 39,
       "text": [
        "  City  Population\n",
        "0   SF      837000\n",
        "1   LA     3880000\n",
        "2  NYC     8400000"
       ]
      }
     ],
     "prompt_number": 39
    },
    {
     "cell_type": "code",
     "collapsed": false,
     "input": [
      "#For full list of ways to create DataFrames from various sources go to teh documentation for pandas:\n",
      "website = 'http://pandas.pydata.org/pandas-docs/dev/generated/pandas.DataFrame.html'\n",
      "webbrowser.open(website)"
     ],
     "language": "python",
     "metadata": {},
     "outputs": [
      {
       "metadata": {},
       "output_type": "pyout",
       "prompt_number": 40,
       "text": [
        "True"
       ]
      }
     ],
     "prompt_number": 40
    },
    {
     "cell_type": "code",
     "collapsed": false,
     "input": [],
     "language": "python",
     "metadata": {},
     "outputs": []
    }
   ],
   "metadata": {}
  }
 ]
}