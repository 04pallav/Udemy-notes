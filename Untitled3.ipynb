{
 "metadata": {
  "name": "",
  "signature": "sha256:5718210d9b5e36fa366c8e1e120fd48f11425ae7dddc6bafbe4e25ea9f564b2d"
 },
 "nbformat": 3,
 "nbformat_minor": 0,
 "worksheets": [
  {
   "cells": [
    {
     "cell_type": "code",
     "collapsed": false,
     "input": [
      "import numpy as np\n",
      "import seaborn as sns\n",
      "%matplotlib inline\n",
      "\n",
      "sns.set(style=\"white\")\n",
      "planets = sns.load_dataset(\"planets\")\n",
      "years = np.arange(2000, 2015)\n",
      "g = sns.factorplot(\"year\", data=planets, palette=\"BuPu\",\n",
      "                   size=6, aspect=1.5, x_order=years)\n",
      "g.set_xticklabels(step=2)"
     ],
     "language": "python",
     "metadata": {},
     "outputs": [
      {
       "metadata": {},
       "output_type": "pyout",
       "prompt_number": 2,
       "text": [
        "<seaborn.axisgrid.FacetGrid at 0x18b9cd30>"
       ]
      },
      {
       "metadata": {},
       "output_type": "display_data",
       "png": "[encoded data removed]",
       "text": [
        "<matplotlib.figure.Figure at 0x18e69a58>"
       ]
      }
     ],
     "prompt_number": 2
    },
    {
     "cell_type": "code",
     "collapsed": false,
     "input": [
      "planets.head()"
     ],
     "language": "python",
     "metadata": {},
     "outputs": [
      {
       "html": [
        "<div style=\"max-height:1000px;max-width:1500px;overflow:auto;\">\n",
        "<table border=\"1\" class=\"dataframe\">\n",
        "  <thead>\n",
        "    <tr style=\"text-align: right;\">\n",
        "      <th></th>\n",
        "      <th>method</th>\n",
        "      <th>number</th>\n",
        "      <th>orbital_period</th>\n",
        "      <th>mass</th>\n",
        "      <th>distance</th>\n",
        "      <th>year</th>\n",
        "    </tr>\n",
        "  </thead>\n",
        "  <tbody>\n",
        "    <tr>\n",
        "      <th>0</th>\n",
        "      <td> Radial Velocity</td>\n",
        "      <td> 1</td>\n",
        "      <td> 269.300</td>\n",
        "      <td>  7.10</td>\n",
        "      <td>  77.40</td>\n",
        "      <td> 2006</td>\n",
        "    </tr>\n",
        "    <tr>\n",
        "      <th>1</th>\n",
        "      <td> Radial Velocity</td>\n",
        "      <td> 1</td>\n",
        "      <td> 874.774</td>\n",
        "      <td>  2.21</td>\n",
        "      <td>  56.95</td>\n",
        "      <td> 2008</td>\n",
        "    </tr>\n",
        "    <tr>\n",
        "      <th>2</th>\n",
        "      <td> Radial Velocity</td>\n",
        "      <td> 1</td>\n",
        "      <td> 763.000</td>\n",
        "      <td>  2.60</td>\n",
        "      <td>  19.84</td>\n",
        "      <td> 2011</td>\n",
        "    </tr>\n",
        "    <tr>\n",
        "      <th>3</th>\n",
        "      <td> Radial Velocity</td>\n",
        "      <td> 1</td>\n",
        "      <td> 326.030</td>\n",
        "      <td> 19.40</td>\n",
        "      <td> 110.62</td>\n",
        "      <td> 2007</td>\n",
        "    </tr>\n",
        "    <tr>\n",
        "      <th>4</th>\n",
        "      <td> Radial Velocity</td>\n",
        "      <td> 1</td>\n",
        "      <td> 516.220</td>\n",
        "      <td> 10.50</td>\n",
        "      <td> 119.47</td>\n",
        "      <td> 2009</td>\n",
        "    </tr>\n",
        "  </tbody>\n",
        "</table>\n",
        "</div>"
       ],
       "metadata": {},
       "output_type": "pyout",
       "prompt_number": 3,
       "text": [
        "            method  number  orbital_period   mass  distance  year\n",
        "0  Radial Velocity       1         269.300   7.10     77.40  2006\n",
        "1  Radial Velocity       1         874.774   2.21     56.95  2008\n",
        "2  Radial Velocity       1         763.000   2.60     19.84  2011\n",
        "3  Radial Velocity       1         326.030  19.40    110.62  2007\n",
        "4  Radial Velocity       1         516.220  10.50    119.47  2009"
       ]
      }
     ],
     "prompt_number": 3
    },
    {
     "cell_type": "code",
     "collapsed": false,
     "input": [],
     "language": "python",
     "metadata": {},
     "outputs": []
    }
   ],
   "metadata": {}
  }
 ]
}